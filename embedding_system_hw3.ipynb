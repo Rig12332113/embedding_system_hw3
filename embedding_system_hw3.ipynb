{
  "nbformat": 4,
  "nbformat_minor": 0,
  "metadata": {
    "colab": {
      "provenance": [],
      "include_colab_link": true
    },
    "kernelspec": {
      "name": "python3",
      "display_name": "Python 3"
    },
    "language_info": {
      "name": "python"
    }
  },
  "cells": [
    {
      "cell_type": "markdown",
      "metadata": {
        "id": "view-in-github",
        "colab_type": "text"
      },
      "source": [
        "<a href=\"https://colab.research.google.com/github/Rig12332113/embedding_system_hw3/blob/main/Untitled0.ipynb\" target=\"_parent\"><img src=\"https://colab.research.google.com/assets/colab-badge.svg\" alt=\"Open In Colab\"/></a>"
      ]
    },
    {
      "cell_type": "markdown",
      "source": [
        "# ble_scan_connection.py\n"
      ],
      "metadata": {
        "id": "PcE6oBflmfOU"
      }
    },
    {
      "cell_type": "code",
      "source": [
        "from bluepy.btle import Peripheral, UUID\n",
        "from bluepy.btle import Scanner, DefaultDelegate\n",
        "\n",
        "class ScanDelegate(DefaultDelegate):\n",
        "    def __init__(self):\n",
        "        DefaultDelegate.__init__(self)\n",
        "    def handleDiscovery(self, dev, isNewDev, isNewData):\n",
        "        if isNewDev:\n",
        "            print (\"Discovered device\", dev.addr)\n",
        "        elif isNewData:\n",
        "            print (\"Received new data from\", dev.addr)\n",
        "\n",
        "class NotifyDelegate(DefaultDelegate):\n",
        "    def __init__(self, params):\n",
        "        DefaultDelegate.__init__(self)\n",
        "    def handleNotification(self, cHandle, data):\n",
        "        print(\"Notification from Handle: 0x\" + format(cHandle, '02X'))\n",
        "        print(data)\n",
        "\n",
        "scanner = Scanner().withDelegate(ScanDelegate())\n",
        "devices = scanner.scan(10.0)\n",
        "n = 0\n",
        "addr = []\n",
        "for dev in devices:\n",
        "    print(\"%d: Device %s (%s), RSSI:%d dB \" % (n, dev.addr, dev.addrType, dev.rrssi))\n",
        "    addr.append(dev.addr)\n",
        "    n += 1\n",
        "    for (adtype, desc, value) in dev.getScanData():\n",
        "        print (\" %s=%s \" % (desc, value))\n",
        "\n",
        "number = input(\"Enter your device number: \")\n",
        "print(\"Device\", number)\n",
        "num = int(num)\n",
        "print(addr[num])\n",
        "\n",
        "print(\"Connecting...\")\n",
        "dev = Peripheral(addr[num], 'random')\n",
        "print(\"Services...\")\n",
        "for svc in dev.services:\n",
        "    print(str(svc))\n",
        "\n",
        "try:\n",
        "    testService = dev.getServiceByUUID(UUID(0xfff0))\n",
        "    for ch in testService.getCharacteristics():\n",
        "        print(str(ch))\n",
        "\n",
        "    ch = dev.getCharacteristics(uuid=UUID(0xfff2))[0]\n",
        "    print(ch)\n",
        "    notify_handle = ch.getHandle()+1\n",
        "    dev.writeCharacteristic(notify_handle, b\"\\x01\\x00\")\n",
        "    dev.setDelegate(NotifyDelegate(ch.getHandle()))\n",
        "    if (ch.supportsRead()):\n",
        "        print(ch.read())\n",
        "    while True:\n",
        "        if dev.waitForNotifications(1.0):\n",
        "            print(\"Received notification!\")\n",
        "            continue\n",
        "        print(ch.read())\n",
        "finally:\n",
        "    dev.disconnect()"
      ],
      "metadata": {
        "id": "aZds5bFDme5v"
      },
      "execution_count": null,
      "outputs": []
    }
  ]
}
